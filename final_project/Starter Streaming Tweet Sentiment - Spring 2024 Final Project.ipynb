{
 "cells": [
  {
   "cell_type": "markdown",
   "metadata": {
    "application/vnd.databricks.v1+cell": {
     "cellMetadata": {
      "byteLimit": 2048000,
      "rowLimit": 10000
     },
     "inputWidgets": {},
     "nuid": "fc749083-2211-485c-943f-640e198b2c70",
     "showTitle": false,
     "title": ""
    }
   },
   "source": [
    "## DSCC202-402 Data Science at Scale Final Project\n",
    "### Tracking Tweet sentiment at scale using a pretrained transformer (classifier)\n",
    "<p>Consider the following illustration of the end to end system that you will be building.  Each student should do their own work.  The project will demonstrate your understanding of Spark Streaming, the medalion data architecture using Delta Lake, Spark Inference at Scale using an MLflow packaged model as well as Exploritory Data Analysis and System Tracking and Monitoring.</p>\n",
    "<br><br>\n",
    "<img src=\"https://data-science-at-scale.s3.amazonaws.com/images/pipeline.drawio.png\">\n",
    "\n",
    "<p>\n",
    "You will be pulling an updated copy of the course GitHub repositiory: <a href=\"https://github.com/lpalum/dscc202-402-spring2024\">The Repo</a>.  If you are unclear on how to pull an updated copy using the GitHub command line, the following <a href=\"https://techwritingmatters.com/how-to-update-your-forked-repository-on-github\">document</a> is helpful.  Be sure to add the professors and TAs as collaborators on your project. \n",
    "\n",
    "- lpalum@gmail.com GitHub ID: lpalum\n",
    "- ajay.anand@rochester.edu GitHub ID: ajayan12\n",
    "- divyamunot1999@gmail.com GitHub ID: divyamunot\n",
    "- ylong6@u.Rochester.edu GitHub ID: NinaLong2077\n",
    "\n",
    "Once you have updates your fork of the repository you should see the following template project that is resident in the final_project directory.\n",
    "</p>\n",
    "\n",
    "<img src=\"https://data-science-at-scale.s3.amazonaws.com/images/notebooks.drawio.png\">\n",
    "\n",
    "<p>\n",
    "You can then pull your project into the Databrick Workspace using the <a href=\"https://www.databricks.training/step-by-step/importing-courseware-from-github/index.html\">Repos</a> feature.\n",
    "Each student is expected to submit the URL of their project on GitHub with their code checked in on the main/master branch.  This illustration highlights the branching scheme that you may use to work on your code in steps and then merge your submission into your master branch before submitting.\n",
    "</p>\n",
    "<img src=\"https://data-science-at-scale.s3.amazonaws.com/images/github.drawio.png\">\n",
    "<p>\n",
    "Work your way through this notebook which will give you the steps required to submit a complete and compliant project.  The following illustration and associated data dictionary specifies the transformations and data that you are to generate for each step in the medallion pipeline.\n",
    "</p>\n",
    "<br><br>\n",
    "<img src=\"https://data-science-at-scale.s3.amazonaws.com/images/dataframes.drawio.png\">\n",
    "\n",
    "#### Bronze Data - raw ingest\n",
    "- date - string in the source json\n",
    "- user - string in the source json\n",
    "- text - tweet string in the source json\n",
    "- sentiment - the given sentiment of the text as determined by an unknown model that is provided in the source json\n",
    "- source_file - the path of the source json file the this row of data was read from\n",
    "- processing_time - a timestamp of when you read this row from the source json\n",
    "\n",
    "#### Silver Data - Bronze Preprocessing\n",
    "- timestamp - convert date string in the bronze data to a timestamp\n",
    "- mention - every @username mentioned in the text string in the bronze data gets a row in this silver data table.\n",
    "- cleaned_text - the bronze text data with the mentions (@username) removed.\n",
    "- sentiment - the given sentiment that was associated with the text in the bronze table.\n",
    "\n",
    "#### Gold Data - Silver Table Inference\n",
    "- timestamp - the timestamp from the silver data table rows\n",
    "- mention - the mention from the silver data table rows\n",
    "- cleaned_text - the cleaned_text from the silver data table rows\n",
    "- sentiment - the given sentiment from the silver data table rows\n",
    "- predicted_score - score out of 100 from the Hugging Face Sentiment Transformer\n",
    "- predicted_sentiment - string representation of the sentiment\n",
    "- sentiment_id - 0 for negative and 1 for postive associated with the given sentiment\n",
    "- predicted_sentiment_id - 0 for negative and 1 for positive assocaited with the Hugging Face Sentiment Transformer\n",
    "\n",
    "#### Application Data - Gold Table Aggregation\n",
    "- min_timestamp - the oldest timestamp on a given mention (@username)\n",
    "- max_timestamp - the newest timestamp on a given mention (@username)\n",
    "- mention - the user (@username) that this row pertains to.\n",
    "- negative - total negative tweets directed at this mention (@username)\n",
    "- neutral - total neutral tweets directed at this mention (@username)\n",
    "- positive - total positive tweets directed at this mention (@username)\n",
    "\n",
    "When you are designing your approach, one of the main decisions that you will need to make is how you are going to orchestrate the streaming data processing in your pipeline.  There are several valid approaches.  First, you may choose to start the bronze_stream and let it complete (read and append all of the source data) before preceeding and starting up the silver_stream.  This approach has latency associated with it but it will allow your code to proceed in a linear fashion and process all the data by the end of your notebook execution.  Another potential approach is to start all the streams and have a \"watch\" method to determine when the pipeline has processed sufficient or all of the source data before stopping and displaying results.  Both of these approaches are valid and have different implications on how you will trigger your steams and how you will gate the execution of your pipeline.  Think through how you want to proceed and ask questions if you need guidance. The following references may be helpful:\n",
    "- [Spark Structured Streaming Programming Guide](https://spark.apache.org/docs/latest/structured-streaming-programming-guide.html)\n",
    "- [Databricks Autoloader - Cloudfiles](https://docs.databricks.com/en/ingestion/auto-loader/index.html)\n",
    "\n",
    "### Be sure that your project runs end to end when *Run all* is executued on this notebook! (15 Points out of 60)"
   ]
  },
  {
   "cell_type": "code",
   "execution_count": 0,
   "metadata": {
    "application/vnd.databricks.v1+cell": {
     "cellMetadata": {
      "byteLimit": 2048000,
      "rowLimit": 10000
     },
     "inputWidgets": {},
     "nuid": "068f25d0-1387-4342-89cf-ce82a8d614ce",
     "showTitle": true,
     "title": "Pull in the Includes & Utiltites"
    }
   },
   "outputs": [],
   "source": [
    "%run ./includes/includes"
   ]
  },
  {
   "cell_type": "code",
   "execution_count": 0,
   "metadata": {
    "application/vnd.databricks.v1+cell": {
     "cellMetadata": {
      "byteLimit": 2048000,
      "rowLimit": 10000
     },
     "inputWidgets": {},
     "nuid": "69fe6cca-5cbb-47ba-8c64-3ebb55df300e",
     "showTitle": true,
     "title": "Notebook Control Widgets (maybe helpful)"
    }
   },
   "outputs": [],
   "source": [
    "\"\"\"\n",
    "Adding a widget to the notebook to control the clearing of a previous run.\n",
    "or stopping the active streams using routines defined in the utilities notebook\n",
    "\"\"\"\n",
    "dbutils.widgets.removeAll()\n",
    "\n",
    "dbutils.widgets.dropdown(\"clear_previous_run\", \"No\", [\"No\",\"Yes\"])\n",
    "if (getArgument(\"clear_previous_run\") == \"Yes\"):\n",
    "    clear_previous_run()\n",
    "    print(\"Cleared all previous data.\")\n",
    "\n",
    "dbutils.widgets.dropdown(\"stop_streams\", \"No\", [\"No\",\"Yes\"])\n",
    "if (getArgument(\"stop_streams\") == \"Yes\"):\n",
    "    stop_all_streams()\n",
    "    print(\"Stopped all active streams.\")\n",
    "\n",
    "from delta import *\n",
    "dbutils.widgets.dropdown(\"optimize_tables\", \"No\", [\"No\",\"Yes\"])\n",
    "if (getArgument(\"optimize_tables\") == \"Yes\"):\n",
    "    # Suck up those small files that we have been appending.\n",
    "    DeltaTable.forPath(spark, BRONZE_DELTA).optimize().executeCompaction()\n",
    "    # Suck up those small files that we have been appending.\n",
    "    DeltaTable.forPath(spark, SILVER_DELTA).optimize().executeCompaction()\n",
    "    # Suck up those small files that we have been appending.\n",
    "    DeltaTable.forPath(spark, GOLD_DELTA).optimize().executeCompaction()\n",
    "    print(\"Optimized all of the Delta Tables\")"
   ]
  },
  {
   "cell_type": "markdown",
   "metadata": {
    "application/vnd.databricks.v1+cell": {
     "cellMetadata": {
      "byteLimit": 2048000,
      "rowLimit": 10000
     },
     "inputWidgets": {},
     "nuid": "e8ce7c13-7f8f-4e11-b50c-fdaebbcf3f99",
     "showTitle": false,
     "title": ""
    }
   },
   "source": [
    "## 1.0 Import your libraries here...\n",
    "- Are your shuffle partitions consistent with your cluster and your workload?\n",
    "- Do you have the necessary libraries to perform the required operations in the pipeline/application?"
   ]
  },
  {
   "cell_type": "markdown",
   "metadata": {
    "application/vnd.databricks.v1+cell": {
     "cellMetadata": {
      "byteLimit": 2048000,
      "rowLimit": 10000
     },
     "inputWidgets": {},
     "nuid": "1c5cc876-8504-43d2-bd8b-d90b5847bb24",
     "showTitle": false,
     "title": ""
    }
   },
   "source": [
    "Since the cluster has four cores, I've kept the shuffle partitions at the default of 200, which is a multiple of four."
   ]
  },
  {
   "cell_type": "code",
   "execution_count": 0,
   "metadata": {
    "application/vnd.databricks.v1+cell": {
     "cellMetadata": {
      "byteLimit": 2048000,
      "rowLimit": 10000
     },
     "inputWidgets": {},
     "nuid": "7f46e4bf-acb4-46e3-8f3f-27f765044d7c",
     "showTitle": false,
     "title": ""
    }
   },
   "outputs": [],
   "source": [
    "# Importing pyspark sql types and functions to perform neccessary transformations\n",
    "from pyspark.sql.types import ArrayType, DoubleType, IntegerType, LongType, StringType, StructType, StructField, TimestampType, MapType\n",
    "from pyspark.sql.functions import input_file_name, current_timestamp, col, split, explode, regexp_replace, substring, to_timestamp, udf, when, countDistinct, count, sum, min, max\n",
    "from pyspark.sql import Window\n",
    "\n",
    "# Importing libraries to create model, get accuracy metrics, and log to mlflow\n",
    "from transformers import pipeline\n",
    "from sklearn.metrics import precision_score, recall_score, f1_score, confusion_matrix\n",
    "import mlflow\n",
    "import mlflow.pyfunc\n",
    "import cloudpickle\n",
    "\n",
    "# Importing seaborn and seaborn objects for graphing\n",
    "# Note: Include file has been modified to update seaborn for using the seaborn objects API. This is my preferred graphing library\n",
    "import seaborn as sns\n",
    "import seaborn.objects as so"
   ]
  },
  {
   "cell_type": "code",
   "execution_count": 0,
   "metadata": {
    "application/vnd.databricks.v1+cell": {
     "cellMetadata": {
      "byteLimit": 2048000,
      "rowLimit": 10000
     },
     "inputWidgets": {},
     "nuid": "eca17c14-6517-4d91-9ecf-02624e086912",
     "showTitle": false,
     "title": ""
    }
   },
   "outputs": [],
   "source": [
    "# Log time to import libraries\n",
    "LIBRARY_TIME = time.time()"
   ]
  },
  {
   "cell_type": "markdown",
   "metadata": {
    "application/vnd.databricks.v1+cell": {
     "cellMetadata": {
      "byteLimit": 2048000,
      "rowLimit": 10000
     },
     "inputWidgets": {},
     "nuid": "2b7624b4-0aa5-46b7-9767-52f462b2c574",
     "showTitle": false,
     "title": ""
    }
   },
   "source": [
    "## 2.0 Use the utility functions to ...\n",
    "- Read the source file directory listing\n",
    "- Count the source files (how many are there?)\n",
    "- print the contents of one of the files"
   ]
  },
  {
   "cell_type": "code",
   "execution_count": 0,
   "metadata": {
    "application/vnd.databricks.v1+cell": {
     "cellMetadata": {
      "byteLimit": 2048000,
      "rowLimit": 10000
     },
     "inputWidgets": {},
     "nuid": "1cf9e50d-b8d5-4bf2-b631-bf9093ec1251",
     "showTitle": false,
     "title": ""
    }
   },
   "outputs": [],
   "source": [
    "# Use utility functions to get source files list, count number of files, and show example file\n",
    "src_listing_df = get_source_listing_df()\n",
    "file_count = src_listing_df['File Name'].count()\n",
    "ex_file = src_listing_df['File Name'][1]\n",
    "ex_file_name = src_listing_df['File Name'][1].split(\"/\")[1]\n",
    "ex_file_text = show_s3_file_contents(ex_file).decode('utf-8')\n",
    "\n",
    "print(f\"Number of files in source directory: \\n {file_count} \\n\")\n",
    "print(f\"Contents of {ex_file_name}: \\n {ex_file_text}\")"
   ]
  },
  {
   "cell_type": "code",
   "execution_count": 0,
   "metadata": {
    "application/vnd.databricks.v1+cell": {
     "cellMetadata": {
      "byteLimit": 2048000,
      "rowLimit": 10000
     },
     "inputWidgets": {},
     "nuid": "8a0822dc-45b0-4dec-9c61-d588f8f6e369",
     "showTitle": false,
     "title": ""
    }
   },
   "outputs": [],
   "source": [
    "# Time utility functions\n",
    "UTILITY_TIME = time.time()"
   ]
  },
  {
   "cell_type": "markdown",
   "metadata": {
    "application/vnd.databricks.v1+cell": {
     "cellMetadata": {
      "byteLimit": 2048000,
      "rowLimit": 10000
     },
     "inputWidgets": {},
     "nuid": "1676aed7-527f-4ea7-9d3b-52544e8c1e37",
     "showTitle": false,
     "title": ""
    }
   },
   "source": [
    "## 3.0 Transform the Raw Data to Bronze Data using a stream\n",
    "- define the schema for the raw data\n",
    "- setup a read stream using cloudfiles and the source data format\n",
    "- setup a write stream using cloudfiles to append to the bronze delta table\n",
    "- enforce schema\n",
    "- allow a new schema to be merged into the bronze delta table\n",
    "- Use the defined BRONZE_CHECKPOINT and BRONZE_DELTA paths defines in the includes\n",
    "- name your raw to bronze stream as bronze_stream\n",
    "- transform the raw data to the bronze data using the data definition at the top of the notebook"
   ]
  },
  {
   "cell_type": "code",
   "execution_count": 0,
   "metadata": {
    "application/vnd.databricks.v1+cell": {
     "cellMetadata": {
      "byteLimit": 2048000,
      "rowLimit": 10000
     },
     "inputWidgets": {},
     "nuid": "1faa778c-cef1-42d3-be5a-c08ce3f67567",
     "showTitle": false,
     "title": ""
    }
   },
   "outputs": [],
   "source": [
    "# Create struct of raw schema\n",
    "raw_schema = StructType([\n",
    "    StructField(\"date\", StringType(), True),\n",
    "    StructField(\"user\", StringType(), True),\n",
    "    StructField(\"text\", StringType(), True),\n",
    "    StructField(\"sentiment\", StringType(), True)\n",
    "])"
   ]
  },
  {
   "cell_type": "code",
   "execution_count": 0,
   "metadata": {
    "application/vnd.databricks.v1+cell": {
     "cellMetadata": {
      "byteLimit": 2048000,
      "rowLimit": 10000
     },
     "inputWidgets": {},
     "nuid": "c4e37574-9885-4908-bf97-609d140a8818",
     "showTitle": false,
     "title": ""
    }
   },
   "outputs": [],
   "source": [
    "# Set up raw stream using cloudfiles with schema enforced\n",
    "raw_stream = (\n",
    "    spark\n",
    "    .readStream\n",
    "    .format(\"cloudfiles\")\n",
    "    .option(\"cloudfiles.format\",\"json\")\n",
    "    .schema(raw_schema)\n",
    "    .load(TWEET_SOURCE_PATH)\n",
    "    )"
   ]
  },
  {
   "cell_type": "code",
   "execution_count": 0,
   "metadata": {
    "application/vnd.databricks.v1+cell": {
     "cellMetadata": {
      "byteLimit": 2048000,
      "rowLimit": 10000
     },
     "inputWidgets": {},
     "nuid": "d6cdc3f9-19bc-43a1-b4af-233147baed72",
     "showTitle": false,
     "title": ""
    }
   },
   "outputs": [],
   "source": [
    "# Transform raw stream to comply with directions: Source file and timestamp added\n",
    "raw_transform = (\n",
    "    raw_stream\n",
    "    .withColumn('source_file',input_file_name())\n",
    "    .withColumn('processed_time',current_timestamp())\n",
    ")"
   ]
  },
  {
   "cell_type": "code",
   "execution_count": 0,
   "metadata": {
    "application/vnd.databricks.v1+cell": {
     "cellMetadata": {
      "byteLimit": 2048000,
      "rowLimit": 10000
     },
     "inputWidgets": {},
     "nuid": "4a097d71-55cf-488e-a3bd-b5ec9d9ee5c4",
     "showTitle": false,
     "title": ""
    }
   },
   "outputs": [],
   "source": [
    "# Write stream to bronze table, mergeSchema enabled\n",
    "bronze_query = (\n",
    "    raw_transform\n",
    "    .writeStream\n",
    "    .option(\"mergeSchema\",\"true\")\n",
    "    .outputMode(\"append\")\n",
    "    .format('delta')\n",
    "    .queryName(\"bronze_stream\")\n",
    "    .option(\"checkpointLocation\",BRONZE_CHECKPOINT)\n",
    "    .start(BRONZE_DELTA)\n",
    ")"
   ]
  },
  {
   "cell_type": "code",
   "execution_count": 0,
   "metadata": {
    "application/vnd.databricks.v1+cell": {
     "cellMetadata": {
      "byteLimit": 2048000,
      "rowLimit": 10000
     },
     "inputWidgets": {},
     "nuid": "ac7f9fdf-ce8b-4e39-ba68-63b92c3218b3",
     "showTitle": false,
     "title": ""
    }
   },
   "outputs": [],
   "source": [
    "# Modified utility function to wait for stream to start by checking that rcent progress has been updated three times\n",
    "# Get total time to confirmation of bronze stream\n",
    "bronze_started = wait_stream_start(spark,\"bronze_stream\")\n",
    "BRONZE_TIME = time.time()"
   ]
  },
  {
   "cell_type": "markdown",
   "metadata": {
    "application/vnd.databricks.v1+cell": {
     "cellMetadata": {
      "byteLimit": 2048000,
      "rowLimit": 10000
     },
     "inputWidgets": {},
     "nuid": "9bc3e824-d218-43e5-a43b-4c6dbe31950d",
     "showTitle": false,
     "title": ""
    }
   },
   "source": [
    "## 4.0 Bronze Data Exploratory Data Analysis\n",
    "- How many tweets are captured in your Bronze Table?\n",
    "- Are there any columns that contain Nan or Null values?  If so how many and what will you do in your silver transforms to address this?\n",
    "- Count the number of tweets by each unique user handle and sort the data by descending count.\n",
    "- How many tweets have at least one mention (@) how many tweet have no mentions (@)\n",
    "- Plot a bar chart that shows the top 20 tweeters (users)\n"
   ]
  },
  {
   "cell_type": "code",
   "execution_count": 0,
   "metadata": {
    "application/vnd.databricks.v1+cell": {
     "cellMetadata": {
      "byteLimit": 2048000,
      "rowLimit": 10000
     },
     "inputWidgets": {},
     "nuid": "091ec59c-d968-4acf-b56f-cc9178cd0693",
     "showTitle": false,
     "title": ""
    }
   },
   "outputs": [],
   "source": [
    "# Read bronze table for EDA\n",
    "bronze_eda = (spark.read.format(\"delta\").load(BRONZE_DELTA))"
   ]
  },
  {
   "cell_type": "code",
   "execution_count": 0,
   "metadata": {
    "application/vnd.databricks.v1+cell": {
     "cellMetadata": {
      "byteLimit": 2048000,
      "rowLimit": 10000
     },
     "inputWidgets": {},
     "nuid": "e8b1e634-a245-4694-a6ba-7d89bf394368",
     "showTitle": false,
     "title": ""
    }
   },
   "outputs": [],
   "source": [
    "# Count number of tweets in bronze table\n",
    "# Note: 200,000 expected when completed\n",
    "tweet_count = bronze_eda.count()\n",
    "print(f\"Number of tweets in Bronze Table: \\n {tweet_count}\")"
   ]
  },
  {
   "cell_type": "code",
   "execution_count": 0,
   "metadata": {
    "application/vnd.databricks.v1+cell": {
     "cellMetadata": {
      "byteLimit": 2048000,
      "rowLimit": 10000
     },
     "inputWidgets": {},
     "nuid": "4e3a8796-f557-4df5-92f7-21d0916be159",
     "showTitle": false,
     "title": ""
    }
   },
   "outputs": [],
   "source": [
    "# Get null values in bronze table columns\n",
    "# Note: none found\n",
    "bronze_nulls = bronze_eda.select([count(when(col(c).isNull(),c)).alias(c) for c in bronze_eda.columns]).collect()[0].asDict()\n",
    "for fld in bronze_nulls:\n",
    "    print(f\"Column '{fld}' has {bronze_nulls[fld]} missing values.\")"
   ]
  },
  {
   "cell_type": "code",
   "execution_count": 0,
   "metadata": {
    "application/vnd.databricks.v1+cell": {
     "cellMetadata": {
      "byteLimit": 2048000,
      "rowLimit": 10000
     },
     "inputWidgets": {},
     "nuid": "a55ca46c-3fbe-492b-acb5-4773a80bd488",
     "showTitle": false,
     "title": ""
    }
   },
   "outputs": [],
   "source": [
    "# Get top 20 usernames by number of tweets\n",
    "user_tweet_counts = bronze_eda.groupBy(\"user\").count().sort(\"count\",ascending=False).limit(20)\n",
    "user_tweet_counts.show()"
   ]
  },
  {
   "cell_type": "code",
   "execution_count": 0,
   "metadata": {
    "application/vnd.databricks.v1+cell": {
     "cellMetadata": {
      "byteLimit": 2048000,
      "rowLimit": 10000
     },
     "inputWidgets": {},
     "nuid": "b718a273-1803-4133-8e64-2560fb156311",
     "showTitle": false,
     "title": ""
    }
   },
   "outputs": [],
   "source": [
    "# Find tweets with a mention by looking for '@' symbol\n",
    "# Note: 93,817 with at least one mention when completed\n",
    "\n",
    "mention_count = bronze_eda.where(bronze_eda.text.like('%@%')).count()\n",
    "no_mention_count = bronze_eda.where(~ bronze_eda.text.like('%@%')).count()\n",
    "\n",
    "print(f\"{mention_count} tweets have at least one mention.\")\n",
    "print(f\"{no_mention_count} tweets have no mentions.\")"
   ]
  },
  {
   "cell_type": "code",
   "execution_count": 0,
   "metadata": {
    "application/vnd.databricks.v1+cell": {
     "cellMetadata": {
      "byteLimit": 2048000,
      "rowLimit": 10000
     },
     "inputWidgets": {},
     "nuid": "9d91b2d5-12f4-4698-83c2-1c74b0fc6c0d",
     "showTitle": false,
     "title": ""
    }
   },
   "outputs": [],
   "source": [
    "# Plot top 20 tweeters\n",
    "\n",
    "p = (\n",
    "    so.Plot(\n",
    "        data = user_tweet_counts.toPandas().iloc[:20,:],\n",
    "        x = \"user\",\n",
    "        y= \"count\"\n",
    "    )\n",
    "    .add(so.Bar())\n",
    "    .label(\n",
    "        x = \"Username\",\n",
    "        y = \"Tweet Count\",\n",
    "        title = \"Top 20 Tweeters\"\n",
    "    )\n",
    "    .plot()\n",
    ")\n",
    "\n",
    "p._figure.axes[0].xaxis.set_tick_params(rotation = 90)\n",
    "\n",
    "p"
   ]
  },
  {
   "cell_type": "code",
   "execution_count": 0,
   "metadata": {
    "application/vnd.databricks.v1+cell": {
     "cellMetadata": {
      "byteLimit": 2048000,
      "rowLimit": 10000
     },
     "inputWidgets": {},
     "nuid": "98c7ba3f-2c6d-4b78-bf77-344b7cae03e6",
     "showTitle": false,
     "title": ""
    }
   },
   "outputs": [],
   "source": [
    "# Get time for EDA\n",
    "EDA_TIME = time.time()"
   ]
  },
  {
   "cell_type": "markdown",
   "metadata": {
    "application/vnd.databricks.v1+cell": {
     "cellMetadata": {
      "byteLimit": 2048000,
      "rowLimit": 10000
     },
     "inputWidgets": {},
     "nuid": "38c290b9-a42a-4551-857b-3f461b8a1be6",
     "showTitle": false,
     "title": ""
    }
   },
   "source": [
    "## 5.0 Transform the Bronze Data to Silver Data using a stream\n",
    "- setup a read stream on your bronze delta table\n",
    "- setup a write stream to append to the silver delta table\n",
    "- Use the defined SILVER_CHECKPOINT and SILVER_DELTA paths in the includes\n",
    "- name your bronze to silver stream as silver_stream\n",
    "- transform the bronze data to the silver data using the data definition at the top of the notebook"
   ]
  },
  {
   "cell_type": "code",
   "execution_count": 0,
   "metadata": {
    "application/vnd.databricks.v1+cell": {
     "cellMetadata": {
      "byteLimit": 2048000,
      "rowLimit": 10000
     },
     "inputWidgets": {},
     "nuid": "65b029cb-ba45-4625-a9c1-d0d410a4962b",
     "showTitle": false,
     "title": ""
    }
   },
   "outputs": [],
   "source": [
    "# Set up stream reader from bronze to silver\n",
    "# Found good results setting max files per trigger to 100, kept pace with bronze table\n",
    "bronze_to_silver_read = (\n",
    "    spark\n",
    "    .readStream\n",
    "    .option(\"maxFilesPerTrigger\",100)\n",
    "    .format('delta')\n",
    "    .load(BRONZE_DELTA)\n",
    ")"
   ]
  },
  {
   "cell_type": "code",
   "execution_count": 0,
   "metadata": {
    "application/vnd.databricks.v1+cell": {
     "cellMetadata": {
      "byteLimit": 2048000,
      "rowLimit": 10000
     },
     "inputWidgets": {},
     "nuid": "61d4b52b-edd8-4a2c-8252-c41747bb953a",
     "showTitle": false,
     "title": ""
    }
   },
   "outputs": [],
   "source": [
    "# Transform stream for silver schema. Convert time stamp, extract mentions from tweet text, and clean text without mentions\n",
    "bronze_to_silver_tr = (\n",
    "    bronze_to_silver_read\n",
    "    .withColumn(\"timestamp\",to_timestamp(substring(col(\"date\"),5,25),\"MMM dd kk:mm:ss zzz yyyy\"))\n",
    "    .withColumn('words',split(col('text'),\" \"))\n",
    "    .withColumn('mention',explode(split(col('text'),\" \")))\n",
    "    .filter(\"mention like '@%' and mention <> '@'\")\n",
    "    .withColumn(\"cleaned_text\",regexp_replace(col('text'),\"(\\s|^)@\\w+\",\"\"))\n",
    "    .select(\"timestamp\",\"mention\",\"cleaned_text\",\"sentiment\")\n",
    ")"
   ]
  },
  {
   "cell_type": "code",
   "execution_count": 0,
   "metadata": {
    "application/vnd.databricks.v1+cell": {
     "cellMetadata": {
      "byteLimit": 2048000,
      "rowLimit": 10000
     },
     "inputWidgets": {},
     "nuid": "7d3ac573-a902-4858-b4b5-379cf666fb5a",
     "showTitle": false,
     "title": ""
    }
   },
   "outputs": [],
   "source": [
    "# Write stream to Silver table, mergeSchema allowed\n",
    "bronze_to_silver_query = (\n",
    "    bronze_to_silver_tr\n",
    "    .writeStream\n",
    "    .option(\"mergeSchema\",\"true\")\n",
    "    .outputMode(\"append\")\n",
    "    .format('delta')\n",
    "    .queryName(\"silver_stream\")\n",
    "    .option(\"checkpointLocation\",SILVER_CHECKPOINT)\n",
    "    .start(SILVER_DELTA)\n",
    ")"
   ]
  },
  {
   "cell_type": "code",
   "execution_count": 0,
   "metadata": {
    "application/vnd.databricks.v1+cell": {
     "cellMetadata": {
      "byteLimit": 2048000,
      "rowLimit": 10000
     },
     "inputWidgets": {},
     "nuid": "bf6eed90-1cca-4db7-be2a-c07d273d542b",
     "showTitle": false,
     "title": ""
    }
   },
   "outputs": [],
   "source": [
    "# Wait for silver stream to start, get time\n",
    "silver_started = wait_stream_start(spark, \"silver_stream\")\n",
    "SILVER_TIME = time.time()"
   ]
  },
  {
   "cell_type": "markdown",
   "metadata": {
    "application/vnd.databricks.v1+cell": {
     "cellMetadata": {
      "byteLimit": 2048000,
      "rowLimit": 10000
     },
     "inputWidgets": {},
     "nuid": "9ee38aba-e340-4766-8339-71ef2ecfde3a",
     "showTitle": false,
     "title": ""
    }
   },
   "source": [
    "## 6.0 Transform the Silver Data to Gold Data using a stream\n",
    "- setup a read stream on your silver delta table\n",
    "- setup a write stream to append to the gold delta table\n",
    "- Use the defined GOLD_CHECKPOINT and GOLD_DELTA paths defines in the includes\n",
    "- name your silver to gold stream as gold_stream\n",
    "- transform the silver data to the gold data using the data definition at the top of the notebook\n",
    "- Load the pretrained transformer sentiment classifier from the MODEL_NAME at the production level from the MLflow registry\n",
    "- Use a spark UDF to parallelize the inference across your silver data"
   ]
  },
  {
   "cell_type": "code",
   "execution_count": 0,
   "metadata": {
    "application/vnd.databricks.v1+cell": {
     "cellMetadata": {
      "byteLimit": 2048000,
      "rowLimit": 10000
     },
     "inputWidgets": {},
     "nuid": "31e8949d-c016-44a7-9f03-65f471dfd22d",
     "showTitle": false,
     "title": ""
    }
   },
   "outputs": [],
   "source": [
    "# Set up stream reader from silver to gold\n",
    "# Found good results setting max files per trigger to 10\n",
    "silver_to_gold_read = (\n",
    "    spark\n",
    "    .readStream\n",
    "    .option(\"maxFilesPerTrigger\",10)\n",
    "    .format('delta')\n",
    "    .load(SILVER_DELTA)\n",
    ")"
   ]
  },
  {
   "cell_type": "code",
   "execution_count": 0,
   "metadata": {
    "application/vnd.databricks.v1+cell": {
     "cellMetadata": {
      "byteLimit": 2048000,
      "rowLimit": 10000
     },
     "inputWidgets": {},
     "nuid": "83bd87a7-e289-49ca-aef2-4edd1471f761",
     "showTitle": false,
     "title": ""
    }
   },
   "outputs": [],
   "source": [
    "# Import model and create pandas UDF\n",
    "# Perform inference on tweets\n",
    "model_version_uri = f\"models:/{MODEL_NAME}/production\"\n",
    "HF_UDF = mlflow.pyfunc.spark_udf(spark,model_uri=model_version_uri)\n",
    "\n",
    "silver_to_gold_tr = (\n",
    "    silver_to_gold_read\n",
    "    .withColumn(\"predicted\",HF_UDF(col(\"cleaned_text\")))\n",
    "    .withColumn(\"predicted_sentiment\",when(col(\"predicted\")['label']=='POS',\"positive\").when(col(\"predicted\")['label']=='NEG',\"negative\").when(col(\"predicted\")['label']=='NEU',\"neutral\"))\n",
    "    .withColumn(\"predicted_score\",(col('predicted')['score']).astype(DoubleType()))\n",
    "    .drop(\"predicted\")\n",
    "    .withColumn(\"sentiment_id\",when(col('sentiment') == 'positive',1).when(col('sentiment') == 'negative',0))\n",
    "    .withColumn(\"predicted_sentiment_id\",when(col('predicted_sentiment') == 'positive',1).when(col('predicted_sentiment') == 'negative',0))\n",
    ")"
   ]
  },
  {
   "cell_type": "code",
   "execution_count": 0,
   "metadata": {
    "application/vnd.databricks.v1+cell": {
     "cellMetadata": {
      "byteLimit": 2048000,
      "rowLimit": 10000
     },
     "inputWidgets": {},
     "nuid": "14cca667-8810-42f2-b2cd-198f35e56080",
     "showTitle": false,
     "title": ""
    }
   },
   "outputs": [],
   "source": [
    "# Write results to Gold table\n",
    "silver_to_gold_query = (\n",
    "    silver_to_gold_tr\n",
    "    .writeStream\n",
    "    .option(\"mergeSchema\",\"True\")\n",
    "    .outputMode(\"append\")\n",
    "    .format('delta')\n",
    "    .queryName(\"gold_stream\")\n",
    "    .option(\"checkpointLocation\",GOLD_CHECKPOINT)\n",
    "    .start(GOLD_DELTA)\n",
    ")"
   ]
  },
  {
   "cell_type": "code",
   "execution_count": 0,
   "metadata": {
    "application/vnd.databricks.v1+cell": {
     "cellMetadata": {
      "byteLimit": 2048000,
      "rowLimit": 10000
     },
     "inputWidgets": {},
     "nuid": "5f587965-cc17-48a5-afc2-24f92a96b1c1",
     "showTitle": false,
     "title": ""
    }
   },
   "outputs": [],
   "source": [
    "# Wait for gold to start and get time\n",
    "gold_started = wait_stream_start(spark, \"gold_stream\")\n",
    "GOLD_TIME = time.time()"
   ]
  },
  {
   "cell_type": "markdown",
   "metadata": {
    "application/vnd.databricks.v1+cell": {
     "cellMetadata": {
      "byteLimit": 2048000,
      "rowLimit": 10000
     },
     "inputWidgets": {},
     "nuid": "0494d8b4-5a55-47fc-af12-47325f34a303",
     "showTitle": false,
     "title": ""
    }
   },
   "source": [
    "## 7.0 Capture the accuracy metrics from the gold table in MLflow\n",
    "Store the following in an MLflow experiment run:\n",
    "- Store the precision, recall, and F1-score as MLflow metrics\n",
    "- Store an image of the confusion matrix as an MLflow artifact\n",
    "- Store the mdoel name and the MLflow version that was used as an MLflow parameters\n",
    "- Store the version of the Delta Table (input-silver) as an MLflow parameter"
   ]
  },
  {
   "cell_type": "code",
   "execution_count": 0,
   "metadata": {
    "application/vnd.databricks.v1+cell": {
     "cellMetadata": {
      "byteLimit": 2048000,
      "rowLimit": 10000
     },
     "inputWidgets": {},
     "nuid": "3bb174ad-67e4-4b0a-be36-ff20a760ee8b",
     "showTitle": false,
     "title": ""
    }
   },
   "outputs": [],
   "source": [
    "# Read gold table\n",
    "gld = (\n",
    "    spark\n",
    "    .read\n",
    "    .format(\"delta\")\n",
    "    .load(GOLD_DELTA)\n",
    ")"
   ]
  },
  {
   "cell_type": "code",
   "execution_count": 0,
   "metadata": {
    "application/vnd.databricks.v1+cell": {
     "cellMetadata": {
      "byteLimit": 2048000,
      "rowLimit": 10000
     },
     "inputWidgets": {},
     "nuid": "5bdbccfc-630f-4635-bfd6-2577c9009425",
     "showTitle": false,
     "title": ""
    }
   },
   "outputs": [],
   "source": [
    "# Get sentiment ID and predicted sentiment ID\n",
    "# Note: Predicted sentiment ID is null when predicted sentiment is neutral, so those are not used for these metrics\n",
    "# Get Precision, Recall and F! scores and create a confusion matrix\n",
    "labels = (\n",
    "    gld\n",
    "    .select(\"sentiment_id\",\"predicted_sentiment_id\")\n",
    "    .toPandas()\n",
    "    .query(\"~predicted_sentiment_id.isnull()\")\n",
    ")\n",
    "\n",
    "prec = precision_score(labels['sentiment_id'],labels['predicted_sentiment_id'].astype(int))\n",
    "\n",
    "recall = recall_score(labels['sentiment_id'],labels['predicted_sentiment_id'].astype(int))\n",
    "\n",
    "f1 = f1_score(labels['sentiment_id'],labels['predicted_sentiment_id'].astype(int))\n",
    "\n",
    "conf = confusion_matrix(labels['sentiment_id'],labels['predicted_sentiment_id'].astype(int))\n",
    "\n",
    "print(f\"Pecision score : {prec}\")\n",
    "print(f\"Recall score : {recall}\")\n",
    "print(f\"F1 score : {f1}\")"
   ]
  },
  {
   "cell_type": "code",
   "execution_count": 0,
   "metadata": {
    "application/vnd.databricks.v1+cell": {
     "cellMetadata": {
      "byteLimit": 2048000,
      "rowLimit": 10000
     },
     "inputWidgets": {},
     "nuid": "c2b4ab41-0620-4036-accc-4144b1ede16c",
     "showTitle": false,
     "title": ""
    }
   },
   "outputs": [],
   "source": [
    "# Create heatmap from confusion matrix\n",
    "\n",
    "hmap = sns.heatmap(conf)\n",
    "hmap.get_figure().savefig('conf.png')\n",
    "hmap.plot()"
   ]
  },
  {
   "cell_type": "code",
   "execution_count": 0,
   "metadata": {
    "application/vnd.databricks.v1+cell": {
     "cellMetadata": {
      "byteLimit": 2048000,
      "implicitDf": true,
      "rowLimit": 10000
     },
     "inputWidgets": {},
     "nuid": "dd0be3e7-ebcb-4dc2-890e-d8c913191df9",
     "showTitle": false,
     "title": ""
    }
   },
   "outputs": [],
   "source": [
    "# Get latest version of silver table\n",
    "slv_version = spark.sql(\"select max(version) from (describe history SILVER_DELTA)\").collect()[0][0]"
   ]
  },
  {
   "cell_type": "code",
   "execution_count": 0,
   "metadata": {
    "application/vnd.databricks.v1+cell": {
     "cellMetadata": {
      "byteLimit": 2048000,
      "rowLimit": 10000
     },
     "inputWidgets": {},
     "nuid": "547c07b9-7763-44fa-bc92-735339778839",
     "showTitle": false,
     "title": ""
    }
   },
   "outputs": [],
   "source": [
    "# Log metrics, artifact and parameter\n",
    "with mlflow.start_run(run_name=\"TWalton_Final_Log\") as run:\n",
    "    mlflow.log_metric('Precision',prec)\n",
    "    mlflow.log_metric('Recall',recall)\n",
    "    mlflow.log_metric('F1',f1)\n",
    "\n",
    "    mlflow.log_artifact('conf.png')\n",
    "\n",
    "    mlflow.log_param('Silver_version',slv_version)"
   ]
  },
  {
   "cell_type": "code",
   "execution_count": 0,
   "metadata": {
    "application/vnd.databricks.v1+cell": {
     "cellMetadata": {
      "byteLimit": 2048000,
      "rowLimit": 10000
     },
     "inputWidgets": {},
     "nuid": "e24f3965-553c-44d3-8644-ba3920811de5",
     "showTitle": false,
     "title": ""
    }
   },
   "outputs": [],
   "source": [
    "# Get time for metrics and logging\n",
    "ML_FLOW_TIME = time.time()"
   ]
  },
  {
   "cell_type": "markdown",
   "metadata": {
    "application/vnd.databricks.v1+cell": {
     "cellMetadata": {
      "byteLimit": 2048000,
      "rowLimit": 10000
     },
     "inputWidgets": {},
     "nuid": "81e0e2de-b872-4698-81cc-1669646c2183",
     "showTitle": false,
     "title": ""
    }
   },
   "source": [
    "## 8.0 Application Data Processing and Visualization\n",
    "- How many mentions are there in the gold data total?\n",
    "- Count the number of neutral, positive and negative tweets for each mention in new columns\n",
    "- Capture the total for each mention in a new column\n",
    "- Sort the mention count totals in descending order\n",
    "- Plot a bar chart of the top 20 mentions with positive sentiment (the people who are in favor)\n",
    "- Plot a bar chart of the top 20 mentions with negative sentiment (the people who are the vilians)\n",
    "\n",
    "You may want to use the \"Loop Application\" widget to control whether you repeateded display the latest plots while the data comes in from your streams before moving on to the next section and cleaning up your run.\n",
    "\n",
    "*note: A mention is a specific twitter user that has been \"mentioned\" in a tweet with an @user reference."
   ]
  },
  {
   "cell_type": "code",
   "execution_count": 0,
   "metadata": {
    "application/vnd.databricks.v1+cell": {
     "cellMetadata": {
      "byteLimit": 2048000,
      "rowLimit": 10000
     },
     "inputWidgets": {},
     "nuid": "8250667b-eaa5-48a1-90c7-bfe11e666e32",
     "showTitle": false,
     "title": ""
    }
   },
   "outputs": [],
   "source": [
    "# Read gold table\n",
    "# Redundant after above, but kept in case processed out of order\n",
    "gld = (\n",
    "    spark\n",
    "    .read\n",
    "    .format(\"delta\")\n",
    "    .load(GOLD_DELTA)\n",
    ")"
   ]
  },
  {
   "cell_type": "code",
   "execution_count": 0,
   "metadata": {
    "application/vnd.databricks.v1+cell": {
     "cellMetadata": {
      "byteLimit": 2048000,
      "rowLimit": 10000
     },
     "inputWidgets": {},
     "nuid": "c8c4f055-8093-4dd0-9996-798ea7c7db11",
     "showTitle": false,
     "title": ""
    }
   },
   "outputs": [],
   "source": [
    "# Create app data table by counting tweets of each sentiment for each mentioned user\n",
    "\n",
    "app_data = (\n",
    "    gld\n",
    "    .withColumn(\n",
    "        \"min_timestamp\",\n",
    "        min(col(\"timestamp\")).over(Window.partitionBy([\"mention\"]))\n",
    "    )\n",
    "    .withColumn(\n",
    "        \"max_timestamp\",\n",
    "        max(col(\"timestamp\")).over(Window.partitionBy([\"mention\"]))\n",
    "    )\n",
    "    .withColumn(\n",
    "        \"mention_count\",\n",
    "        count(col(\"cleaned_text\")).over(Window.partitionBy([\"mention\",\"predicted_sentiment\"]))\n",
    "    )\n",
    "    .select(\"min_timestamp\",\"max_timestamp\",\"mention\",\"predicted_sentiment\",\"mention_count\")\n",
    "    .drop_duplicates()\n",
    "    .groupBy(\"min_timestamp\",\"max_timestamp\",\"mention\")\n",
    "    .pivot(\"predicted_sentiment\",[\"negative\",\"neutral\",\"positive\"])\n",
    "    .sum()\n",
    "    .fillna(0,[\"negative\",\"neutral\",\"positive\"])\n",
    "    .withColumn(\n",
    "        \"total\",\n",
    "        (col(\"negative\")+col(\"neutral\")+col(\"positive\"))\n",
    "    )\n",
    "    .sort(\"total\",ascending=False)\n",
    ")"
   ]
  },
  {
   "cell_type": "code",
   "execution_count": 0,
   "metadata": {
    "application/vnd.databricks.v1+cell": {
     "cellMetadata": {
      "byteLimit": 2048000,
      "rowLimit": 10000
     },
     "inputWidgets": {},
     "nuid": "d06e0cfb-d6c1-40e8-a658-8634224dfa9a",
     "showTitle": false,
     "title": ""
    }
   },
   "outputs": [],
   "source": [
    "# Display App data\n",
    "display(app_data)"
   ]
  },
  {
   "cell_type": "code",
   "execution_count": 0,
   "metadata": {
    "application/vnd.databricks.v1+cell": {
     "cellMetadata": {
      "byteLimit": 2048000,
      "rowLimit": 10000
     },
     "inputWidgets": {},
     "nuid": "08137f47-e91c-415a-bcb8-123a13e5c1e2",
     "showTitle": false,
     "title": ""
    }
   },
   "outputs": [],
   "source": [
    "# Count distinct mentions captured in gold table\n",
    "\n",
    "distinct_mentions_count = app_data.count()\n",
    "print(f\"Number of distinct mentions in Gold Table: \\n {distinct_mentions_count}\")"
   ]
  },
  {
   "cell_type": "code",
   "execution_count": 0,
   "metadata": {
    "application/vnd.databricks.v1+cell": {
     "cellMetadata": {
      "byteLimit": 2048000,
      "rowLimit": 10000
     },
     "inputWidgets": {},
     "nuid": "c044ec0b-44da-4ca6-8ed2-cc98629cda92",
     "showTitle": false,
     "title": ""
    }
   },
   "outputs": [],
   "source": [
    "# Get top 20 users mentioned in positive tweets\n",
    "\n",
    "top_20_pos = (\n",
    "    app_data\n",
    "    .select('mention','positive')\n",
    "    .sort('positive',ascending=False)\n",
    "    .limit(20)\n",
    ")\n",
    "display(top_20_pos)"
   ]
  },
  {
   "cell_type": "code",
   "execution_count": 0,
   "metadata": {
    "application/vnd.databricks.v1+cell": {
     "cellMetadata": {
      "byteLimit": 2048000,
      "rowLimit": 10000
     },
     "inputWidgets": {},
     "nuid": "69880fdf-1855-43d4-b534-6bc50e4fd8fa",
     "showTitle": false,
     "title": ""
    }
   },
   "outputs": [],
   "source": [
    "# Get top 20 users mentioned in negative tweets\n",
    "\n",
    "top_20_neg = (\n",
    "    app_data\n",
    "    .select('mention','negative')\n",
    "    .sort('negative',ascending=False)\n",
    "    .limit(20)\n",
    ")\n",
    "display(top_20_neg)"
   ]
  },
  {
   "cell_type": "code",
   "execution_count": 0,
   "metadata": {
    "application/vnd.databricks.v1+cell": {
     "cellMetadata": {
      "byteLimit": 2048000,
      "rowLimit": 10000
     },
     "inputWidgets": {},
     "nuid": "5969e3d0-4449-4294-a6ad-518879337e3b",
     "showTitle": false,
     "title": ""
    }
   },
   "outputs": [],
   "source": [
    "# Plot top 20 users mentioned in positive tweets\n",
    "\n",
    "pos_20 = (\n",
    "    so.Plot(\n",
    "        data = top_20_pos.toPandas().iloc[:20,:],\n",
    "        x = \"mention\",\n",
    "        y= \"positive\"\n",
    "    )\n",
    "    .add(so.Bar())\n",
    "    .label(\n",
    "        x = \"Username\",\n",
    "        y = \"Positive Mention Count\",\n",
    "        title = \"Top 20 Positively Mentioned\"\n",
    "    )\n",
    "    .plot()\n",
    ")\n",
    "\n",
    "pos_20._figure.axes[0].xaxis.set_tick_params(rotation = 90)\n",
    "\n",
    "pos_20"
   ]
  },
  {
   "cell_type": "code",
   "execution_count": 0,
   "metadata": {
    "application/vnd.databricks.v1+cell": {
     "cellMetadata": {
      "byteLimit": 2048000,
      "rowLimit": 10000
     },
     "inputWidgets": {},
     "nuid": "21aae34b-0dc6-4ba9-9f83-882b73c32455",
     "showTitle": false,
     "title": ""
    }
   },
   "outputs": [],
   "source": [
    "# Plot top 20 users mentioned in negative tweets\n",
    "\n",
    "neg_20 = (\n",
    "    so.Plot(\n",
    "        data = top_20_neg.toPandas().iloc[:20,:],\n",
    "        x = \"mention\",\n",
    "        y= \"negative\"\n",
    "    )\n",
    "    .add(so.Bar())\n",
    "    .label(\n",
    "        x = \"Username\",\n",
    "        y = \"Negative Mention Count\",\n",
    "        title = \"Top 20 Negatively Mentioned\"\n",
    "    )\n",
    "    .plot()\n",
    ")\n",
    "\n",
    "neg_20._figure.axes[0].xaxis.set_tick_params(rotation = 90)\n",
    "\n",
    "neg_20"
   ]
  },
  {
   "cell_type": "code",
   "execution_count": 0,
   "metadata": {
    "application/vnd.databricks.v1+cell": {
     "cellMetadata": {
      "byteLimit": 2048000,
      "rowLimit": 10000
     },
     "inputWidgets": {},
     "nuid": "e451a99b-331d-4948-ac8e-53574266a98b",
     "showTitle": false,
     "title": ""
    }
   },
   "outputs": [],
   "source": [
    "# Get time for Application data\n",
    "\n",
    "APP_TIME = time.time()"
   ]
  },
  {
   "cell_type": "markdown",
   "metadata": {
    "application/vnd.databricks.v1+cell": {
     "cellMetadata": {
      "byteLimit": 2048000,
      "rowLimit": 10000
     },
     "inputWidgets": {},
     "nuid": "5d5add3f-0c13-4d81-86d8-12cf3cfdd2c8",
     "showTitle": false,
     "title": ""
    }
   },
   "source": [
    "## 9.0 Clean up and completion of your pipeline\n",
    "- using the utilities what streams are running? If any.\n",
    "- Stop all active streams\n",
    "- print out the elapsed time of your notebook."
   ]
  },
  {
   "cell_type": "code",
   "execution_count": 0,
   "metadata": {
    "application/vnd.databricks.v1+cell": {
     "cellMetadata": {
      "byteLimit": 2048000,
      "rowLimit": 10000
     },
     "inputWidgets": {},
     "nuid": "d2c019f0-99d7-49fb-b4d8-d844ebb5857e",
     "showTitle": false,
     "title": ""
    }
   },
   "outputs": [],
   "source": [
    "# Print all streams still active\n",
    "print(\"Active streams: \")\n",
    "for stream in spark.streams.active:\n",
    "    print(stream.name)"
   ]
  },
  {
   "cell_type": "code",
   "execution_count": 0,
   "metadata": {
    "application/vnd.databricks.v1+cell": {
     "cellMetadata": {
      "byteLimit": 2048000,
      "rowLimit": 10000
     },
     "inputWidgets": {},
     "nuid": "39f18db7-4590-41cb-9723-acf50d2e2159",
     "showTitle": false,
     "title": ""
    }
   },
   "outputs": [],
   "source": [
    "# Either stops all active streams or only stops streams that are no longer processing files. \n",
    "# Created the option here so that the notebook can be run completely but still allow streams to keep running if desired, but so that these streams won't keep spinning if finished\n",
    "# Will default to the former upon submission, but welcome to set STOP_ALL_STREAMS to False to see how it runs when the tables are deleted.\n",
    "\n",
    "STOP_ALL_STREAMS = True\n",
    "\n",
    "if STOP_ALL_STREAMS:\n",
    "    stop_all_streams()\n",
    "else:\n",
    "    for stream in spark.streams.active:\n",
    "        row_total = 0\n",
    "        for prog in stream.recentProgress[-5:]:\n",
    "            row_total = row_total + prog['numInputRows']\n",
    "        if row_total == 0:\n",
    "            stream.stop()"
   ]
  },
  {
   "cell_type": "code",
   "execution_count": 0,
   "metadata": {
    "application/vnd.databricks.v1+cell": {
     "cellMetadata": {
      "byteLimit": 2048000,
      "rowLimit": 10000
     },
     "inputWidgets": {},
     "nuid": "ea759fc8-1d78-4d6d-b571-e2e256448b76",
     "showTitle": false,
     "title": ""
    }
   },
   "outputs": [],
   "source": [
    "# Get the notebooks ending time note START_TIME was established in the include file when the notebook started.\n",
    "END_TIME = time.time()"
   ]
  },
  {
   "cell_type": "code",
   "execution_count": 0,
   "metadata": {
    "application/vnd.databricks.v1+cell": {
     "cellMetadata": {
      "byteLimit": 2048000,
      "rowLimit": 10000
     },
     "inputWidgets": {},
     "nuid": "c3050f23-e45d-4c7d-af13-15853e4078ba",
     "showTitle": false,
     "title": ""
    }
   },
   "outputs": [],
   "source": [
    "library_min, library_sec = divmod(LIBRARY_TIME-START_TIME,60)\n",
    "print(f\"Time Elapsed Importing Libraries: \\n {library_min} Minutes, {library_sec} Seconds\")\n",
    "\n",
    "utility_min, utility_sec = divmod(UTILITY_TIME-LIBRARY_TIME,60)\n",
    "print(f\"Time Elapsed Checking Directory: \\n {utility_min} Minutes, {utility_sec} Seconds \\n\")\n",
    "\n",
    "bronze_min, bronze_sec = divmod(BRONZE_TIME-UTILITY_TIME,60)\n",
    "print(f\"Time Elapsed Starting Bronze Stream: \\n {bronze_min} Minutes, {bronze_sec} Seconds \\n\")\n",
    "\n",
    "EDA_min, EDA_sec = divmod(EDA_TIME-BRONZE_TIME,60)\n",
    "print(f\"Time Elapsed on Bronze EDA: \\n {EDA_min} Minutes, {EDA_sec} Seconds \\n\")\n",
    "\n",
    "silver_min, silver_sec = divmod(SILVER_TIME-EDA_TIME,60)\n",
    "print(f\"Time Elapsed Starting Silver Stream: \\n {silver_min} Minutes, {silver_sec} Seconds \\n\")\n",
    "\n",
    "gold_min, gold_sec = divmod(GOLD_TIME-SILVER_TIME,60)\n",
    "print(f\"Time Elapsed Starting Gold Stream: \\n {gold_min} Minutes, {gold_sec} Seconds \\n\")\n",
    "\n",
    "mlflow_min, mlflow_sec = divmod(ML_FLOW_TIME-GOLD_TIME,60)\n",
    "print(f\"Time Elapsed Logging MLFlow Data: \\n {mlflow_min} Minutes, {mlflow_sec} Seconds \\n\")\n",
    "\n",
    "app_min, app_sec = divmod(APP_TIME-ML_FLOW_TIME,60)\n",
    "print(f\"Time Elapsed Creating App Data: \\n {app_min} Minutes, {app_sec} Seconds \\n\")\n",
    "\n",
    "Total_Time_min, Total_Time_sec = divmod(END_TIME-START_TIME,60)\n",
    "print(f\"Total Time Elapsed: \\n {Total_Time_min} Minutes, {Total_Time_sec} Seconds\")\n"
   ]
  },
  {
   "cell_type": "markdown",
   "metadata": {
    "application/vnd.databricks.v1+cell": {
     "cellMetadata": {
      "byteLimit": 2048000,
      "rowLimit": 10000
     },
     "inputWidgets": {},
     "nuid": "b88fc0e5-f50c-4ed1-9480-16a4c8a44b30",
     "showTitle": false,
     "title": ""
    }
   },
   "source": [
    "## 10.0 How Optimized is your Spark Application (Grad Students Only)\n",
    "Graduate students (registered for the DSCC-402 section of the course) are required to do this section.  This is a written analysis using the Spark UI (link to screen shots) that support your analysis of your pipelines execution and what is driving its performance.\n",
    "Recall that Spark Optimization has 5 significant dimensions of considertation:\n",
    "- Spill: write to executor disk due to lack of memory\n",
    "- Skew: imbalance in partition size\n",
    "- Shuffle: network io moving data between executors (wide transforms)\n",
    "- Storage: inefficiency due to disk storage format (small files, location)\n",
    "- Serialization: distribution of code segments across the cluster\n",
    "\n",
    "Comment on each of the dimentions of performance and how your impelementation is or is not being affected.  Use specific information in the Spark UI to support your description.  \n",
    "\n",
    "Note: you can take sreenshots of the Spark UI from your project runs in databricks and then link to those pictures by storing them as a publicly accessible file on your cloud drive (google, one drive, etc.)\n",
    "\n",
    "References:\n",
    "- [Spark UI Reference Reference](https://spark.apache.org/docs/latest/web-ui.html#web-ui)\n",
    "- [Spark UI Simulator](https://www.databricks.training/spark-ui-simulator/index.html)"
   ]
  },
  {
   "cell_type": "markdown",
   "metadata": {
    "application/vnd.databricks.v1+cell": {
     "cellMetadata": {
      "byteLimit": 2048000,
      "rowLimit": 10000
     },
     "inputWidgets": {},
     "nuid": "a0a5707d-a5ca-4e87-9e74-3b13d00337b0",
     "showTitle": false,
     "title": ""
    }
   },
   "source": [
    "### Spill\n",
    "The data stored on disk was approximately 0%, indicating little to no spill.\n",
    "### Skew\n",
    "I believe keeping the partion number high and reducing files per trigger, this prevented skew by allocating partitions to the streams that needed them most. The gold stream typically had fewer tasks per job, typically only 4, but the bronze stream would sometimes have over 30 per job.\n",
    "### Shuffle\n",
    "Shuffle was kept low, with total shuffle read and write coming to less than a third of a GiB.\n",
    "### Storage\n",
    "Storage was kept to a low percentage of overall memory, some number of MiB out of 21 GiB.\n",
    "### Serialization\n",
    "Using the pandas UDF was critical in reducing serialization. As an example I attempted to construct the gold table without it and the stream was unable to process at nearly the same speed."
   ]
  }
 ],
 "metadata": {
  "application/vnd.databricks.v1+notebook": {
   "dashboards": [],
   "language": "python",
   "notebookMetadata": {
    "mostRecentlyExecutedCommandWithImplicitDF": {
     "commandId": -1,
     "dataframes": [
      "_sqldf"
     ]
    },
    "pythonIndentUnit": 4,
    "widgetLayout": [
     {
      "breakBefore": false,
      "name": "clear_previous_run",
      "width": 203
     },
     {
      "breakBefore": false,
      "name": "stop_streams",
      "width": 203
     }
    ]
   },
   "notebookName": "Starter Streaming Tweet Sentiment - Spring 2024 Final Project",
   "widgets": {
    "clear_previous_run": {
     "currentValue": "No",
     "nuid": "11b43403-c70f-41ef-ab0e-41172583baaa",
     "typedWidgetInfo": null,
     "widgetInfo": {
      "widgetType": "dropdown",
      "defaultValue": "No",
      "label": null,
      "name": "clear_previous_run",
      "options": {
       "widgetType": "dropdown",
       "autoCreated": null,
       "choices": [
        "No",
        "Yes"
       ]
      }
     }
    },
    "optimize_tables": {
     "currentValue": "No",
     "nuid": "8ad13a39-f071-4a50-810b-b862fc5603c8",
     "typedWidgetInfo": null,
     "widgetInfo": {
      "widgetType": "dropdown",
      "defaultValue": "No",
      "label": null,
      "name": "optimize_tables",
      "options": {
       "widgetType": "dropdown",
       "autoCreated": null,
       "choices": [
        "No",
        "Yes"
       ]
      }
     }
    },
    "stop_streams": {
     "currentValue": "No",
     "nuid": "5fcb8fea-0165-4661-b28b-d08f38a7a3cc",
     "typedWidgetInfo": null,
     "widgetInfo": {
      "widgetType": "dropdown",
      "defaultValue": "No",
      "label": null,
      "name": "stop_streams",
      "options": {
       "widgetType": "dropdown",
       "autoCreated": null,
       "choices": [
        "No",
        "Yes"
       ]
      }
     }
    }
   }
  }
 },
 "nbformat": 4,
 "nbformat_minor": 0
}
